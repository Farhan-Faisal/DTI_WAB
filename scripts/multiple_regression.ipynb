{
 "cells": [
  {
   "cell_type": "code",
   "execution_count": 1,
   "metadata": {},
   "outputs": [],
   "source": [
    "import pandas as pd\n",
    "import os\n",
    "import warnings\n",
    "\n",
    "import matplotlib.pyplot as plt\n",
    "import numpy as np\n",
    "import seaborn as sns\n",
    "\n",
    "import statsmodels.api as sm"
   ]
  },
  {
   "cell_type": "code",
   "execution_count": 2,
   "metadata": {},
   "outputs": [],
   "source": [
    "warnings.simplefilter(action='ignore', category=UserWarning)"
   ]
  },
  {
   "cell_type": "markdown",
   "metadata": {},
   "source": [
    "___\n",
    "PATHS\n",
    "___"
   ]
  },
  {
   "cell_type": "code",
   "execution_count": 30,
   "metadata": {},
   "outputs": [],
   "source": [
    "base_dir = '/rri_disks/eugenia/meltzer_lab/NROD98/wab_xtract'\n",
    "\n",
    "behav_path = base_dir + '/behavioral/wab_scores.csv'\n",
    "tract_path = base_dir + '/native_diffusion_space_output'\n",
    "\n",
    "lesion_wab_path = base_dir + '/tables/wab_lesion_volume.csv'\n",
    "roi_damage_path = base_dir + '/tables/roi_damage.csv'\n",
    "streamline_wab_path = base_dir + '/tables/wab_streamline.csv'\n",
    "FA_wab_path = base_dir + '/tables/wab_mean_FA.csv'"
   ]
  },
  {
   "cell_type": "markdown",
   "metadata": {},
   "source": [
    "___\n",
    "COLUMNS OF INTEREST\n",
    "___"
   ]
  },
  {
   "cell_type": "code",
   "execution_count": 38,
   "metadata": {},
   "outputs": [],
   "source": [
    "behav_cols = ['subj', 'wab_fluency', 'wab_av_comp', 'wab_rep', 'wab_obj_name', 'wab_aphasia_score']\n",
    "track_list = ['af', 'ar', 'ifo', 'ilf', 'slf3', 'uf']\n",
    "unused_track_list = ['atr', 'cbd', 'cbp', 'cbt', 'cst', 'fa', 'fx', 'mdlf','or', 'str', 'vof']\n",
    "wab_list = ['wab_fluency', 'wab_av_comp', 'wab_rep', 'wab_obj_name', 'wab_aphasia_score']\n",
    "roi_list = ['temporal', 'frontal', 'motor', 'parietal']\n",
    "st_cols = ['subj'] + track_list"
   ]
  },
  {
   "cell_type": "markdown",
   "metadata": {},
   "source": [
    "___\n",
    "LOAD DATAFRAMES\n",
    "___"
   ]
  },
  {
   "cell_type": "code",
   "execution_count": 40,
   "metadata": {},
   "outputs": [],
   "source": [
    "behavDF = pd.read_csv(behav_path)[behav_cols].dropna()\n",
    "lesion_wab_DF = pd.read_csv(lesion_wab_path)\n",
    "roi_damage_DF = pd.read_csv(roi_damage_path).rename(columns={'pid': 'subj'})\n",
    "streamline_wab_DF = pd.read_csv(streamline_wab_path)\n",
    "FA_wab_DF = pd.read_csv(FA_wab_path).rename(columns={'pid': 'subj'})"
   ]
  },
  {
   "cell_type": "code",
   "execution_count": 41,
   "metadata": {},
   "outputs": [],
   "source": [
    "subj_list = behavDF.subj.to_list()"
   ]
  },
  {
   "cell_type": "markdown",
   "metadata": {},
   "source": [
    "___\n",
    "**1. AIC (Akaike Information Criterion)**\n",
    "\n",
    "**2. BIC (Bayesian Information Criterion)**\n",
    "\n",
    "- Measures used in statistical modeling to compare the goodness of fit of different models. \n",
    "- They are used to balance the trade-off between model complexity and model performance.\n",
    "___"
   ]
  },
  {
   "cell_type": "code",
   "execution_count": 42,
   "metadata": {},
   "outputs": [],
   "source": [
    "volume_cols = ['nonzero_voxel_volume']\n",
    "FA_cols = ['subj', 'af_FA', 'ar_FA', 'ifo_FA', 'ilf_FA', 'slf3_FA', 'uf_FA']\n",
    "tract_cols = ['subj', 'af', 'ar', 'ifo', 'ilf', 'slf3', 'uf']\n",
    "roi_cols = ['subj', 'motor', 'frontal', 'parietal', 'temporal']\n",
    "wab_cols = ['subj', 'wab_fluency', 'wab_av_comp', 'wab_rep', 'wab_obj_name', 'wab_aphasia_score']\n",
    "\n",
    "all_cols = ['subj']\n",
    "for item in tract_cols + FA_cols + roi_cols + wab_cols:\n",
    "    if item != 'subj':\n",
    "        all_cols.append(item)"
   ]
  },
  {
   "cell_type": "code",
   "execution_count": 48,
   "metadata": {},
   "outputs": [],
   "source": [
    "FA_wab_DF = FA_wab_DF.rename(columns={'subj': 'subj', 'af': 'af_FA', 'ar': 'ar_FA', 'ifo': 'ifo_FA', 'ilf': 'ilf_FA', 'slf3': 'slf3_FA', 'uf': 'uf_FA' })\n",
    "wab_roi_damage = pd.merge(roi_damage_DF, behavDF, on=[\"subj\"])"
   ]
  },
  {
   "cell_type": "markdown",
   "metadata": {},
   "source": [
    "___\n",
    "MERGE DATAFRAMES FOR MULTIPLE REGRESSION\n",
    "___"
   ]
  },
  {
   "cell_type": "code",
   "execution_count": 51,
   "metadata": {},
   "outputs": [
    {
     "name": "stdout",
     "output_type": "stream",
     "text": [
      "Number of participants: 17\n"
     ]
    },
    {
     "data": {
      "text/html": [
       "<div>\n",
       "<style scoped>\n",
       "    .dataframe tbody tr th:only-of-type {\n",
       "        vertical-align: middle;\n",
       "    }\n",
       "\n",
       "    .dataframe tbody tr th {\n",
       "        vertical-align: top;\n",
       "    }\n",
       "\n",
       "    .dataframe thead th {\n",
       "        text-align: right;\n",
       "    }\n",
       "</style>\n",
       "<table border=\"1\" class=\"dataframe\">\n",
       "  <thead>\n",
       "    <tr style=\"text-align: right;\">\n",
       "      <th></th>\n",
       "      <th>subj</th>\n",
       "      <th>af</th>\n",
       "      <th>ar</th>\n",
       "      <th>ifo</th>\n",
       "      <th>ilf</th>\n",
       "      <th>slf3</th>\n",
       "      <th>uf</th>\n",
       "      <th>af_FA</th>\n",
       "      <th>ar_FA</th>\n",
       "      <th>ifo_FA</th>\n",
       "      <th>...</th>\n",
       "      <th>uf_FA</th>\n",
       "      <th>motor</th>\n",
       "      <th>frontal</th>\n",
       "      <th>parietal</th>\n",
       "      <th>temporal</th>\n",
       "      <th>wab_fluency</th>\n",
       "      <th>wab_av_comp</th>\n",
       "      <th>wab_rep</th>\n",
       "      <th>wab_obj_name</th>\n",
       "      <th>wab_aphasia_score</th>\n",
       "    </tr>\n",
       "  </thead>\n",
       "  <tbody>\n",
       "    <tr>\n",
       "      <th>0</th>\n",
       "      <td>9336</td>\n",
       "      <td>247276.0</td>\n",
       "      <td>0.0</td>\n",
       "      <td>2429.0</td>\n",
       "      <td>37209.0</td>\n",
       "      <td>-181.0</td>\n",
       "      <td>609.0</td>\n",
       "      <td>-0.022067</td>\n",
       "      <td>0.000000</td>\n",
       "      <td>-0.014213</td>\n",
       "      <td>...</td>\n",
       "      <td>0.010083</td>\n",
       "      <td>0.0056</td>\n",
       "      <td>0.0152</td>\n",
       "      <td>0.0138</td>\n",
       "      <td>0.1566</td>\n",
       "      <td>5.0</td>\n",
       "      <td>8.0</td>\n",
       "      <td>7.5</td>\n",
       "      <td>9.5</td>\n",
       "      <td>78.30</td>\n",
       "    </tr>\n",
       "    <tr>\n",
       "      <th>1</th>\n",
       "      <td>9772</td>\n",
       "      <td>77231.0</td>\n",
       "      <td>7.0</td>\n",
       "      <td>43863.0</td>\n",
       "      <td>26490.0</td>\n",
       "      <td>6525.0</td>\n",
       "      <td>1789.0</td>\n",
       "      <td>-0.005771</td>\n",
       "      <td>0.089314</td>\n",
       "      <td>-0.042084</td>\n",
       "      <td>...</td>\n",
       "      <td>0.016661</td>\n",
       "      <td>0.0000</td>\n",
       "      <td>0.0000</td>\n",
       "      <td>0.0000</td>\n",
       "      <td>0.0000</td>\n",
       "      <td>10.0</td>\n",
       "      <td>10.0</td>\n",
       "      <td>10.0</td>\n",
       "      <td>10.0</td>\n",
       "      <td>96.70</td>\n",
       "    </tr>\n",
       "    <tr>\n",
       "      <th>2</th>\n",
       "      <td>10634</td>\n",
       "      <td>171200.0</td>\n",
       "      <td>-246.0</td>\n",
       "      <td>5313.0</td>\n",
       "      <td>-31324.0</td>\n",
       "      <td>4567.0</td>\n",
       "      <td>-1275.0</td>\n",
       "      <td>-0.005770</td>\n",
       "      <td>0.080112</td>\n",
       "      <td>0.014095</td>\n",
       "      <td>...</td>\n",
       "      <td>-0.005319</td>\n",
       "      <td>0.0000</td>\n",
       "      <td>0.0000</td>\n",
       "      <td>0.0660</td>\n",
       "      <td>0.2378</td>\n",
       "      <td>8.0</td>\n",
       "      <td>10.0</td>\n",
       "      <td>7.5</td>\n",
       "      <td>7.5</td>\n",
       "      <td>80.00</td>\n",
       "    </tr>\n",
       "    <tr>\n",
       "      <th>3</th>\n",
       "      <td>10651</td>\n",
       "      <td>373839.0</td>\n",
       "      <td>17.0</td>\n",
       "      <td>36787.0</td>\n",
       "      <td>6133.0</td>\n",
       "      <td>2807.0</td>\n",
       "      <td>8588.0</td>\n",
       "      <td>0.004550</td>\n",
       "      <td>0.021255</td>\n",
       "      <td>-0.024872</td>\n",
       "      <td>...</td>\n",
       "      <td>0.061578</td>\n",
       "      <td>0.0088</td>\n",
       "      <td>0.0372</td>\n",
       "      <td>0.1590</td>\n",
       "      <td>0.2590</td>\n",
       "      <td>8.0</td>\n",
       "      <td>9.0</td>\n",
       "      <td>7.5</td>\n",
       "      <td>10.0</td>\n",
       "      <td>90.83</td>\n",
       "    </tr>\n",
       "    <tr>\n",
       "      <th>4</th>\n",
       "      <td>10827</td>\n",
       "      <td>85974.0</td>\n",
       "      <td>16.0</td>\n",
       "      <td>1629.0</td>\n",
       "      <td>-6877.0</td>\n",
       "      <td>-2553.0</td>\n",
       "      <td>-3173.0</td>\n",
       "      <td>0.001997</td>\n",
       "      <td>-0.017290</td>\n",
       "      <td>0.003160</td>\n",
       "      <td>...</td>\n",
       "      <td>0.007116</td>\n",
       "      <td>0.0617</td>\n",
       "      <td>0.0022</td>\n",
       "      <td>0.3085</td>\n",
       "      <td>0.0002</td>\n",
       "      <td>8.0</td>\n",
       "      <td>10.0</td>\n",
       "      <td>9.5</td>\n",
       "      <td>10.0</td>\n",
       "      <td>95.80</td>\n",
       "    </tr>\n",
       "  </tbody>\n",
       "</table>\n",
       "<p>5 rows × 22 columns</p>\n",
       "</div>"
      ],
      "text/plain": [
       "    subj        af     ar      ifo      ilf    slf3      uf     af_FA  \\\n",
       "0   9336  247276.0    0.0   2429.0  37209.0  -181.0   609.0 -0.022067   \n",
       "1   9772   77231.0    7.0  43863.0  26490.0  6525.0  1789.0 -0.005771   \n",
       "2  10634  171200.0 -246.0   5313.0 -31324.0  4567.0 -1275.0 -0.005770   \n",
       "3  10651  373839.0   17.0  36787.0   6133.0  2807.0  8588.0  0.004550   \n",
       "4  10827   85974.0   16.0   1629.0  -6877.0 -2553.0 -3173.0  0.001997   \n",
       "\n",
       "      ar_FA    ifo_FA  ...     uf_FA   motor  frontal  parietal  temporal  \\\n",
       "0  0.000000 -0.014213  ...  0.010083  0.0056   0.0152    0.0138    0.1566   \n",
       "1  0.089314 -0.042084  ...  0.016661  0.0000   0.0000    0.0000    0.0000   \n",
       "2  0.080112  0.014095  ... -0.005319  0.0000   0.0000    0.0660    0.2378   \n",
       "3  0.021255 -0.024872  ...  0.061578  0.0088   0.0372    0.1590    0.2590   \n",
       "4 -0.017290  0.003160  ...  0.007116  0.0617   0.0022    0.3085    0.0002   \n",
       "\n",
       "   wab_fluency  wab_av_comp  wab_rep  wab_obj_name  wab_aphasia_score  \n",
       "0          5.0          8.0      7.5           9.5              78.30  \n",
       "1         10.0         10.0     10.0          10.0              96.70  \n",
       "2          8.0         10.0      7.5           7.5              80.00  \n",
       "3          8.0          9.0      7.5          10.0              90.83  \n",
       "4          8.0         10.0      9.5          10.0              95.80  \n",
       "\n",
       "[5 rows x 22 columns]"
      ]
     },
     "execution_count": 51,
     "metadata": {},
     "output_type": "execute_result"
    }
   ],
   "source": [
    "mergedDF = pd.merge(FA_wab_DF[FA_cols], lesion_wab_DF, on=[\"subj\"])\n",
    "mergedDF = pd.merge(mergedDF, streamline_wab_DF[tract_cols], on=[\"subj\"])\n",
    "mergedDF = pd.merge(mergedDF, wab_roi_damage[roi_cols], on=[\"subj\"])[all_cols]\n",
    "print(\"Number of participants:\", len(mergedDF))\n",
    "mergedDF.head()"
   ]
  },
  {
   "cell_type": "markdown",
   "metadata": {},
   "source": [
    "___\n",
    "DEFINE RELEVANT FUNCTIONS\n",
    "___"
   ]
  },
  {
   "cell_type": "code",
   "execution_count": 52,
   "metadata": {},
   "outputs": [],
   "source": [
    "def permutations(arr):\n",
    "    if len(arr) == 0:\n",
    "        return [[]]\n",
    "    \n",
    "    all_perms = []\n",
    "    for i in range(len(arr)):\n",
    "        first = arr[i]\n",
    "        rest = arr[:i] + arr[i+1:]\n",
    "        for perm in permutations(rest):\n",
    "            all_perms.append([first] + perm)\n",
    "    return all_perms"
   ]
  },
  {
   "cell_type": "code",
   "execution_count": 53,
   "metadata": {},
   "outputs": [],
   "source": [
    "from tqdm import tqdm\n",
    "def forward_selection(DF, predictors, target):\n",
    "    # Define the dependent variable\n",
    "    y = DF[target]\n",
    "\n",
    "    # Initialize an empty list to store the selected predictors\n",
    "    selected_predictors = []\n",
    "\n",
    "    # Initialize the best AIC and BIC values\n",
    "    best_aic = float('inf')\n",
    "    best_bic = float('inf')\n",
    "    best_rsquared = float('-inf')\n",
    "    best_summary = ''\n",
    "\n",
    "    # visited = ['slf2']\n",
    "    # Loop through each predictor\n",
    "    for predictor in predictors:\n",
    "\n",
    "        # Fit a model with the current predictor and the selected predictors\n",
    "        model = sm.OLS(y, DF[selected_predictors + [predictor]])\n",
    "        result = model.fit()\n",
    "        # print(\"r-squared: \", result.rsquared, \"current-predictors: \", selected_predictors, \"|| predictor:\", predictor)\n",
    "        \n",
    "        # Calculate the AIC and BIC for the current model\n",
    "        aic = result.aic\n",
    "        bic = result.bic\n",
    "        rsquared = result.rsquared\n",
    "        \n",
    "        # Check if the current model has a lower AIC or BIC value than the best model so far\n",
    "        if (aic < best_aic or bic < best_bic) and rsquared > best_rsquared:\n",
    "            # Update the best AIC and BIC values\n",
    "            best_aic = aic\n",
    "            best_bic = bic\n",
    "            best_rsquared = rsquared\n",
    "            best_summary = result.summary()\n",
    "            \n",
    "            # Add the current predictor to the list of selected predictors\n",
    "            selected_predictors.append(predictor)\n",
    "    \n",
    "    # Print the selected predictors, AIC, and BIC values\n",
    "    return best_aic, best_bic, best_rsquared, selected_predictors, best_summary"
   ]
  },
  {
   "cell_type": "code",
   "execution_count": 54,
   "metadata": {},
   "outputs": [],
   "source": [
    "def get_best_predictors(DF, predictors, target):\n",
    "    predictors_set_list =  permutations(predictors)\n",
    "    best_aic = float('inf')\n",
    "    best_bic = float('inf')\n",
    "    best_rsquared = float('-inf')\n",
    "    best_selected_predictors = []\n",
    "    best_summary = ''\n",
    "    for predictor_list in tqdm(predictors_set_list):\n",
    "        aic, bic, rsquared, selected_predictors, summary= forward_selection(DF, predictor_list, target)\n",
    "        if (aic < best_aic or bic < best_bic) and rsquared > best_rsquared:\n",
    "            best_aic = aic\n",
    "            best_bic = bic\n",
    "            best_rsquared = rsquared\n",
    "            best_selected_predictors = selected_predictors\n",
    "            best_summary = summary\n",
    "    print(target, best_aic, best_bic, best_rsquared, best_selected_predictors, best_summary)\n"
   ]
  },
  {
   "cell_type": "markdown",
   "metadata": {},
   "source": [
    "___\n",
    "MULTIPLE REGRESSION\n",
    "___"
   ]
  },
  {
   "cell_type": "code",
   "execution_count": 55,
   "metadata": {},
   "outputs": [],
   "source": [
    "wab_cols = ['wab_fluency', 'wab_av_comp', 'wab_rep', 'wab_obj_name', 'wab_aphasia_score']\n",
    "tract_cols = ['af', 'ar', 'ifo', 'ilf', 'slf3', 'uf']\n",
    "FA_cols = ['af_FA', 'ar_FA', 'ifo_FA', 'ilf_FA', 'slf3_FA', 'uf_FA']\n",
    "roi_cols = ['motor', 'frontal', 'parietal', 'temporal']"
   ]
  },
  {
   "cell_type": "code",
   "execution_count": 56,
   "metadata": {},
   "outputs": [
    {
     "name": "stderr",
     "output_type": "stream",
     "text": [
      "100%|██████████| 720/720 [00:21<00:00, 32.91it/s]\n",
      "  0%|          | 3/720 [00:00<00:34, 21.05it/s]"
     ]
    },
    {
     "name": "stdout",
     "output_type": "stream",
     "text": [
      "wab_fluency 107.56930014265211 109.23572683076455 0.48372282493831353 ['af', 'ifo']                                  OLS Regression Results                                \n",
      "=======================================================================================\n",
      "Dep. Variable:            wab_fluency   R-squared (uncentered):                   0.484\n",
      "Model:                            OLS   Adj. R-squared (uncentered):              0.415\n",
      "Method:                 Least Squares   F-statistic:                              7.027\n",
      "Date:                Sat, 04 May 2024   Prob (F-statistic):                     0.00702\n",
      "Time:                        17:51:52   Log-Likelihood:                         -51.785\n",
      "No. Observations:                  17   AIC:                                      107.6\n",
      "Df Residuals:                      15   BIC:                                      109.2\n",
      "Df Model:                           2                                                  \n",
      "Covariance Type:            nonrobust                                                  \n",
      "==============================================================================\n",
      "                 coef    std err          t      P>|t|      [0.025      0.975]\n",
      "------------------------------------------------------------------------------\n",
      "af          1.045e-05   5.54e-06      1.887      0.079   -1.35e-06    2.22e-05\n",
      "ifo         7.515e-05   4.46e-05      1.686      0.112   -1.98e-05       0.000\n",
      "==============================================================================\n",
      "Omnibus:                        2.458   Durbin-Watson:                   1.923\n",
      "Prob(Omnibus):                  0.293   Jarque-Bera (JB):                1.656\n",
      "Skew:                          -0.562   Prob(JB):                        0.437\n",
      "Kurtosis:                       1.964   Cond. No.                         9.65\n",
      "==============================================================================\n",
      "\n",
      "Warnings:\n",
      "[1] Standard Errors assume that the covariance matrix of the errors is correctly specified.\n"
     ]
    },
    {
     "name": "stderr",
     "output_type": "stream",
     "text": [
      "100%|██████████| 720/720 [00:22<00:00, 32.63it/s]\n",
      "  1%|          | 6/720 [00:00<00:13, 52.32it/s]"
     ]
    },
    {
     "name": "stdout",
     "output_type": "stream",
     "text": [
      "wab_av_comp 110.31241794961677 111.97884463772921 0.6462753450154248 ['af', 'ifo']                                  OLS Regression Results                                \n",
      "=======================================================================================\n",
      "Dep. Variable:            wab_av_comp   R-squared (uncentered):                   0.646\n",
      "Model:                            OLS   Adj. R-squared (uncentered):              0.599\n",
      "Method:                 Least Squares   F-statistic:                              13.70\n",
      "Date:                Sat, 04 May 2024   Prob (F-statistic):                    0.000412\n",
      "Time:                        17:52:14   Log-Likelihood:                         -53.156\n",
      "No. Observations:                  17   AIC:                                      110.3\n",
      "Df Residuals:                      15   BIC:                                      112.0\n",
      "Df Model:                           2                                                  \n",
      "Covariance Type:            nonrobust                                                  \n",
      "==============================================================================\n",
      "                 coef    std err          t      P>|t|      [0.025      0.975]\n",
      "------------------------------------------------------------------------------\n",
      "af          1.806e-05      6e-06      3.009      0.009    5.26e-06    3.08e-05\n",
      "ifo         9.424e-05   4.83e-05      1.951      0.070   -8.72e-06       0.000\n",
      "==============================================================================\n",
      "Omnibus:                        0.326   Durbin-Watson:                   1.689\n",
      "Prob(Omnibus):                  0.850   Jarque-Bera (JB):                0.362\n",
      "Skew:                          -0.270   Prob(JB):                        0.835\n",
      "Kurtosis:                       2.533   Cond. No.                         9.65\n",
      "==============================================================================\n",
      "\n",
      "Warnings:\n",
      "[1] Standard Errors assume that the covariance matrix of the errors is correctly specified.\n"
     ]
    },
    {
     "name": "stderr",
     "output_type": "stream",
     "text": [
      "100%|██████████| 720/720 [00:22<00:00, 31.41it/s]\n",
      "  0%|          | 2/720 [00:00<00:38, 18.59it/s]"
     ]
    },
    {
     "name": "stdout",
     "output_type": "stream",
     "text": [
      "wab_rep 108.84999429136819 110.51642097948063 0.5735586712659139 ['af', 'ifo']                                  OLS Regression Results                                \n",
      "=======================================================================================\n",
      "Dep. Variable:                wab_rep   R-squared (uncentered):                   0.574\n",
      "Model:                            OLS   Adj. R-squared (uncentered):              0.517\n",
      "Method:                 Least Squares   F-statistic:                              10.09\n",
      "Date:                Sat, 04 May 2024   Prob (F-statistic):                     0.00167\n",
      "Time:                        17:52:36   Log-Likelihood:                         -52.425\n",
      "No. Observations:                  17   AIC:                                      108.8\n",
      "Df Residuals:                      15   BIC:                                      110.5\n",
      "Df Model:                           2                                                  \n",
      "Covariance Type:            nonrobust                                                  \n",
      "==============================================================================\n",
      "                 coef    std err          t      P>|t|      [0.025      0.975]\n",
      "------------------------------------------------------------------------------\n",
      "af          1.294e-05   5.75e-06      2.251      0.040    6.88e-07    2.52e-05\n",
      "ifo         9.397e-05   4.63e-05      2.031      0.060   -4.65e-06       0.000\n",
      "==============================================================================\n",
      "Omnibus:                        0.796   Durbin-Watson:                   1.696\n",
      "Prob(Omnibus):                  0.672   Jarque-Bera (JB):                0.724\n",
      "Skew:                          -0.226   Prob(JB):                        0.696\n",
      "Kurtosis:                       2.096   Cond. No.                         9.65\n",
      "==============================================================================\n",
      "\n",
      "Warnings:\n",
      "[1] Standard Errors assume that the covariance matrix of the errors is correctly specified.\n"
     ]
    },
    {
     "name": "stderr",
     "output_type": "stream",
     "text": [
      "100%|██████████| 720/720 [00:25<00:00, 28.19it/s]\n",
      "  0%|          | 3/720 [00:00<00:28, 24.74it/s]"
     ]
    },
    {
     "name": "stdout",
     "output_type": "stream",
     "text": [
      "wab_obj_name 112.52445519004935 115.024095222218 0.6399283665644804 ['af', 'ifo', 'ilf']                                  OLS Regression Results                                \n",
      "=======================================================================================\n",
      "Dep. Variable:           wab_obj_name   R-squared (uncentered):                   0.640\n",
      "Model:                            OLS   Adj. R-squared (uncentered):              0.563\n",
      "Method:                 Least Squares   F-statistic:                              8.294\n",
      "Date:                Sat, 04 May 2024   Prob (F-statistic):                     0.00204\n",
      "Time:                        17:52:59   Log-Likelihood:                         -53.262\n",
      "No. Observations:                  17   AIC:                                      112.5\n",
      "Df Residuals:                      14   BIC:                                      115.0\n",
      "Df Model:                           3                                                  \n",
      "Covariance Type:            nonrobust                                                  \n",
      "==============================================================================\n",
      "                 coef    std err          t      P>|t|      [0.025      0.975]\n",
      "------------------------------------------------------------------------------\n",
      "af          1.753e-05    6.4e-06      2.740      0.016    3.81e-06    3.13e-05\n",
      "ifo         8.594e-05   5.21e-05      1.651      0.121   -2.57e-05       0.000\n",
      "ilf         5.909e-05   4.42e-05      1.338      0.202   -3.56e-05       0.000\n",
      "==============================================================================\n",
      "Omnibus:                        0.264   Durbin-Watson:                   1.497\n",
      "Prob(Omnibus):                  0.876   Jarque-Bera (JB):                0.381\n",
      "Skew:                           0.238   Prob(JB):                        0.827\n",
      "Kurtosis:                       2.442   Cond. No.                         10.6\n",
      "==============================================================================\n",
      "\n",
      "Warnings:\n",
      "[1] Standard Errors assume that the covariance matrix of the errors is correctly specified.\n"
     ]
    },
    {
     "name": "stderr",
     "output_type": "stream",
     "text": [
      "100%|██████████| 720/720 [00:20<00:00, 35.58it/s]"
     ]
    },
    {
     "name": "stdout",
     "output_type": "stream",
     "text": [
      "wab_aphasia_score 188.1618287912398 189.82825547935224 0.5600757972521411 ['af', 'ifo']                                  OLS Regression Results                                \n",
      "=======================================================================================\n",
      "Dep. Variable:      wab_aphasia_score   R-squared (uncentered):                   0.560\n",
      "Model:                            OLS   Adj. R-squared (uncentered):              0.501\n",
      "Method:                 Least Squares   F-statistic:                              9.548\n",
      "Date:                Sat, 04 May 2024   Prob (F-statistic):                     0.00212\n",
      "Time:                        17:53:25   Log-Likelihood:                         -92.081\n",
      "No. Observations:                  17   AIC:                                      188.2\n",
      "Df Residuals:                      15   BIC:                                      189.8\n",
      "Df Model:                           2                                                  \n",
      "Covariance Type:            nonrobust                                                  \n",
      "==============================================================================\n",
      "                 coef    std err          t      P>|t|      [0.025      0.975]\n",
      "------------------------------------------------------------------------------\n",
      "af             0.0001   5.92e-05      2.357      0.032    1.34e-05       0.000\n",
      "ifo            0.0009      0.000      1.799      0.092      -0.000       0.002\n",
      "==============================================================================\n",
      "Omnibus:                        1.667   Durbin-Watson:                   1.590\n",
      "Prob(Omnibus):                  0.435   Jarque-Bera (JB):                1.293\n",
      "Skew:                          -0.498   Prob(JB):                        0.524\n",
      "Kurtosis:                       2.088   Cond. No.                         9.65\n",
      "==============================================================================\n",
      "\n",
      "Warnings:\n",
      "[1] Standard Errors assume that the covariance matrix of the errors is correctly specified.\n"
     ]
    },
    {
     "name": "stderr",
     "output_type": "stream",
     "text": [
      "\n"
     ]
    }
   ],
   "source": [
    "for wab_measure in wab_cols:\n",
    "    get_best_predictors(mergedDF, tract_cols, wab_measure)"
   ]
  },
  {
   "cell_type": "code",
   "execution_count": null,
   "metadata": {},
   "outputs": [],
   "source": [
    "for wab_measure in wab_cols:\n",
    "    get_best_predictors(mergedDF, FA_cols, wab_measure)"
   ]
  },
  {
   "cell_type": "code",
   "execution_count": null,
   "metadata": {},
   "outputs": [],
   "source": [
    "for wab_measure in wab_cols:\n",
    "    get_best_predictors(mergedDF, roi_cols, wab_measure)"
   ]
  },
  {
   "cell_type": "markdown",
   "metadata": {},
   "source": [
    "___\n",
    "GET BEST PREDICTORS ACROSS ALL THREE DAMAGE MEASURES\n",
    "___"
   ]
  },
  {
   "cell_type": "code",
   "execution_count": null,
   "metadata": {},
   "outputs": [],
   "source": [
    "predictors = ['slf3', 'uf', 'af', 'ifo', 'af_FA', 'ar_FA', 'slf3_FA', 'ilf_FA']\n",
    "\n",
    "for wab_measure in wab_cols:\n",
    "    get_best_predictors(mergedDF, predictors, wab_measure)"
   ]
  },
  {
   "cell_type": "code",
   "execution_count": null,
   "metadata": {},
   "outputs": [],
   "source": [
    "predictors = ['motor', 'frontal', 'parietal', 'slf3', 'uf', 'af', 'ifo',]\n",
    "for wab_measure in wab_cols:\n",
    "    get_best_predictors(mergedDF, predictors, wab_measure)"
   ]
  },
  {
   "cell_type": "code",
   "execution_count": null,
   "metadata": {},
   "outputs": [],
   "source": [
    "predictors = ['frontal', 'motor', 'parietal', 'slf3', 'af', 'uf', 'ifo', 'af_FA', 'ilf_FA', 'slf3_FA']\n",
    "for wab_measure in wab_cols:\n",
    "    get_best_predictors(mergedDF, predictors, wab_measure)"
   ]
  },
  {
   "cell_type": "markdown",
   "metadata": {},
   "source": [
    "___\n",
    "CHECK COLLINEARITY OF INDEPENDENT VARIABLES\n",
    "___"
   ]
  },
  {
   "cell_type": "code",
   "execution_count": 57,
   "metadata": {},
   "outputs": [
    {
     "data": {
      "text/plain": [
       "Text(0, 0.5, 'Columns')"
      ]
     },
     "execution_count": 57,
     "metadata": {},
     "output_type": "execute_result"
    },
    {
     "data": {
      "image/png": "[encoded data removed]",
      "text/plain": [
       "<Figure size 720x576 with 2 Axes>"
      ]
     },
     "metadata": {
      "needs_background": "light"
     },
     "output_type": "display_data"
    }
   ],
   "source": [
    "# Calculate correlation matrix\n",
    "correlation_matrix = mergedDF[tract_cols + FA_cols + roi_cols].corr()\n",
    "\n",
    "# Create heatmap\n",
    "plt.figure(figsize=(10, 8))\n",
    "plt.imshow(correlation_matrix, cmap='RdBu', vmin=-1, vmax=1)\n",
    "plt.colorbar(label='Correlation')\n",
    "\n",
    "# Set ticks\n",
    "plt.xticks(np.arange(len(correlation_matrix.columns)), correlation_matrix.columns, rotation=45)\n",
    "plt.yticks(np.arange(len(correlation_matrix.columns)), correlation_matrix.columns)\n",
    "\n",
    "# Set title and labels\n",
    "plt.title('Correlation Heatmap of Independent Variables')\n",
    "plt.xlabel('Columns')\n",
    "plt.ylabel('Columns')\n",
    "\n",
    "# Show plot"
   ]
  }
 ],
 "metadata": {
  "kernelspec": {
   "display_name": "base",
   "language": "python",
   "name": "python3"
  },
  "language_info": {
   "codemirror_mode": {
    "name": "ipython",
    "version": 3
   },
   "file_extension": ".py",
   "mimetype": "text/x-python",
   "name": "python",
   "nbconvert_exporter": "python",
   "pygments_lexer": "ipython3",
   "version": "3.7.6"
  }
 },
 "nbformat": 4,
 "nbformat_minor": 2
}
